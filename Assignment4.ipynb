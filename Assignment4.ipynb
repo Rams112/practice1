{
  "nbformat": 4,
  "nbformat_minor": 0,
  "metadata": {
    "colab": {
      "provenance": [],
      "authorship_tag": "ABX9TyOovmFv0hfABEfg2kBwRFZI",
      "include_colab_link": true
    },
    "kernelspec": {
      "name": "python3",
      "display_name": "Python 3"
    },
    "language_info": {
      "name": "python"
    }
  },
  "cells": [
    {
      "cell_type": "markdown",
      "metadata": {
        "id": "view-in-github",
        "colab_type": "text"
      },
      "source": [
        "<a href=\"https://colab.research.google.com/github/Rams112/practice1/blob/main/Assignment4.ipynb\" target=\"_parent\"><img src=\"https://colab.research.google.com/assets/colab-badge.svg\" alt=\"Open In Colab\"/></a>"
      ]
    },
    {
      "cell_type": "markdown",
      "source": [
        "k parusharamudu"
      ],
      "metadata": {
        "id": "-6KkD-cgkNsH"
      }
    },
    {
      "cell_type": "markdown",
      "source": [
        "Play with Lambda\n",
        "\n",
        "\n",
        "Write a Python program to create a lambda function that adds 25 to a given number passed in as an argument.\n",
        "\n",
        "\n",
        "\n",
        "sample input: 10\n",
        "\n",
        "sample output: 35"
      ],
      "metadata": {
        "id": "ZDdPcHrlkTjK"
      }
    },
    {
      "cell_type": "code",
      "execution_count": 1,
      "metadata": {
        "colab": {
          "base_uri": "https://localhost:8080/"
        },
        "id": "1eTsWQoYkMhR",
        "outputId": "94119be9-22bf-47c9-9d2b-45b2d49a1738"
      },
      "outputs": [
        {
          "output_type": "stream",
          "name": "stdout",
          "text": [
            "Enter the number for adding 25 :10\n",
            "after adding 25 to the given number: 35\n"
          ]
        }
      ],
      "source": [
        "user_in=int(input(\"Enter the number for adding 25 :\"))\n",
        "s=lambda a:a+25\n",
        "print(f'after adding 25 to the given number: {s(user_in)}')"
      ]
    },
    {
      "cell_type": "code",
      "source": [],
      "metadata": {
        "id": "Lntidkp2lmQ7"
      },
      "execution_count": 1,
      "outputs": []
    },
    {
      "cell_type": "markdown",
      "source": [
        "Find the way with Maps\n",
        "\n",
        "\n",
        "Write a Python program to triple all numbers of a given list of integers. Use Python map.\n",
        "\n",
        "\n",
        "\n",
        "sample list: [1, 2, 3, 4, 5, 6, 7]\n",
        "\n",
        "\n",
        "\n",
        "Triple of list numbers:\n",
        "\n",
        "[3, 6, 9, 12, 15, 18, 21]\n",
        "\n"
      ],
      "metadata": {
        "id": "GJrc0sQ8lkhq"
      }
    },
    {
      "cell_type": "code",
      "source": [
        "def user_list():\n",
        "  global r\n",
        "  r=[]\n",
        "  k=int(input('do you want how many numbers in your list: '))\n",
        "  for i in range(k):\n",
        "    l1=int(input(f'enter your list numbers for index {i}: '))\n",
        "    r.append(l1)\n",
        "  print('-'*45)\n",
        "  return r\n",
        "print(f'User list is : {user_list()}')\n",
        "p=map(lambda a:a+a+a,r)\n",
        "print(f\"triple of list(user_list) numbers: \\n{list(p)}\")\n",
        "print('-'*45)"
      ],
      "metadata": {
        "colab": {
          "base_uri": "https://localhost:8080/"
        },
        "id": "RMCjQglelxq2",
        "outputId": "0ec1343d-7e9d-4476-9430-ad73f9ea2e88"
      },
      "execution_count": 2,
      "outputs": [
        {
          "output_type": "stream",
          "name": "stdout",
          "text": [
            "do you want how many numbers in your list: 7\n",
            "enter your list numbers for index 0: 1\n",
            "enter your list numbers for index 1: 2\n",
            "enter your list numbers for index 2: 3\n",
            "enter your list numbers for index 3: 4\n",
            "enter your list numbers for index 4: 5\n",
            "enter your list numbers for index 5: 6\n",
            "enter your list numbers for index 6: 7\n",
            "---------------------------------------------\n",
            "User list is : [1, 2, 3, 4, 5, 6, 7]\n",
            "triple of list(user_list) numbers: \n",
            "[3, 6, 9, 12, 15, 18, 21]\n",
            "---------------------------------------------\n"
          ]
        }
      ]
    },
    {
      "cell_type": "code",
      "source": [],
      "metadata": {
        "id": "JN5cnX_tmTnd"
      },
      "execution_count": 2,
      "outputs": []
    },
    {
      "cell_type": "markdown",
      "source": [
        "Find the Squares from the given List\n",
        "\n",
        "Write a Python program to square the elements of a list using map() function.\n",
        "\n",
        "\n",
        "\n",
        "Sample List: [4, 5, 2, 9]\n",
        "\n",
        "Square the elements of the list:\n",
        "\n",
        "[16, 25, 4, 81]\n",
        "\n"
      ],
      "metadata": {
        "id": "U3UNXhn4mTK1"
      }
    },
    {
      "cell_type": "code",
      "source": [
        "def user_list1():\n",
        "  global r1\n",
        "  r1=[]\n",
        "  k1=int(input('do you want how many numbers in your list: '))\n",
        "  for j in range(k1):\n",
        "    l2=int(input(f'enter your list numbers for index {j}: '))\n",
        "    r1.append(l2)\n",
        "  print('-'*45)\n",
        "  return r1\n",
        "print(f'User list is :\\n{user_list1()}')\n",
        "\n",
        "k=list(map(lambda a:a**2,  r1))\n",
        "print(f'Square the elements of the list:\\n{k}')\n",
        "print('-'*45)\n"
      ],
      "metadata": {
        "colab": {
          "base_uri": "https://localhost:8080/"
        },
        "id": "prRCE_humg2S",
        "outputId": "477db6a7-7b8c-4fee-bc28-a443ff675f3a"
      },
      "execution_count": 3,
      "outputs": [
        {
          "output_type": "stream",
          "name": "stdout",
          "text": [
            "do you want how many numbers in your list: 4\n",
            "enter your list numbers for index 0: 4\n",
            "enter your list numbers for index 1: 5\n",
            "enter your list numbers for index 2: 2\n",
            "enter your list numbers for index 3: 9\n",
            "---------------------------------------------\n",
            "User list is :\n",
            "[4, 5, 2, 9]\n",
            "Square the elements of the list:\n",
            "[16, 25, 4, 81]\n",
            "---------------------------------------------\n"
          ]
        }
      ]
    }
  ]
}