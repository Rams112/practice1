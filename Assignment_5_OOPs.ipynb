{
  "nbformat": 4,
  "nbformat_minor": 0,
  "metadata": {
    "colab": {
      "provenance": [],
      "toc_visible": true,
      "authorship_tag": "ABX9TyM28Uz0JE+v+9X3IrRuCZu2",
      "include_colab_link": true
    },
    "kernelspec": {
      "name": "python3",
      "display_name": "Python 3"
    },
    "language_info": {
      "name": "python"
    }
  },
  "cells": [
    {
      "cell_type": "markdown",
      "metadata": {
        "id": "view-in-github",
        "colab_type": "text"
      },
      "source": [
        "<a href=\"https://colab.research.google.com/github/Rams112/practice1/blob/main/Assignment_5_OOPs.ipynb\" target=\"_parent\"><img src=\"https://colab.research.google.com/assets/colab-badge.svg\" alt=\"Open In Colab\"/></a>"
      ]
    },
    {
      "cell_type": "markdown",
      "source": [
        "\n",
        "\n",
        "```\n",
        "## This is formatted as code\n",
        "## **```Challenge 1: Square Numbers and Return Their Sum**\n",
        "🔴 In this challenge, you need to implement a method that squares passing variables and returns their sum.\n",
        "\n",
        "Problem statement: Implement a class Point that has three properties and a method. All these attributes (properties and methods) should be public. This problem can be broken down into two tasks:\n",
        "\n",
        "Task 1: 👉 Implement a constructor to initialize the values of three properties: x, y, and z.\n",
        "\n",
        "Task 2: 👉 Implement a method, sqSum(), in the Point class which squares x, y, and z and returns their sum.\n",
        "\n",
        "Sample properties 1, 3, 5\n",
        "\n",
        "Sample method output 35\n",
        "\n",
        "image1\n",
        "\n",
        "Coding exercise Create a class Point with three properties: x, y, and z.\n",
        "\n",
        "class Point:\n",
        "\n",
        "    def __init__(self):\n",
        "        self.x = x\n",
        "        self.y = y\n",
        "        self.z = z\n",
        "\n",
        "    def sqSum(self):\n",
        "        pass"
      ],
      "metadata": {
        "id": "9UCxummou9bR"
      }
    },
    {
      "cell_type": "code",
      "execution_count": 1,
      "metadata": {
        "colab": {
          "base_uri": "https://localhost:8080/"
        },
        "id": "uWB1VrY6usos",
        "outputId": "ee554443-807f-49a3-9b6f-fc83c8f7b4eb"
      },
      "outputs": [
        {
          "name": "stdout",
          "output_type": "stream",
          "text": [
            "enter the x value: 1\n",
            "enter the y value: 5\n",
            "enter the z value: 3\n"
          ]
        },
        {
          "output_type": "execute_result",
          "data": {
            "text/plain": [
              "35"
            ]
          },
          "metadata": {},
          "execution_count": 1
        }
      ],
      "source": [
        "class Point:\n",
        "  def __init__(self,x,y,z):\n",
        "      self.x = x\n",
        "      self.y = y\n",
        "      self.z = z\n",
        "\n",
        "  def sqSum(self):\n",
        "      return(self.x**2+self.y**2+self.z**2)\n",
        "a=int(input('enter the x value: '))\n",
        "b=int(input('enter the y value: '))\n",
        "c=int(input('enter the z value: '))\n",
        "obj=Point(a,b,c)\n",
        "obj.sqSum()"
      ]
    },
    {
      "cell_type": "code",
      "source": [],
      "metadata": {
        "id": "NIU6eH1WxckF"
      },
      "execution_count": 1,
      "outputs": []
    },
    {
      "cell_type": "markdown",
      "source": [
        "## **Challenge 2: Implement a Calculator Class**\n",
        "🔴 In this exercise, you have to implement a calculator that can perform addition, subtraction, multiplication, and division.\n",
        "\n",
        "Problem statement Write a Python class called Calculator by completing the tasks below:\n",
        "\n",
        "Task 1\n",
        "\n",
        "👉 Initializer\n",
        "\n",
        "Implement an initializer to initialize the values of num1 and num2. Properties\n",
        "\n",
        "• num1\n",
        "\n",
        "• num2\n",
        "\n",
        "Task 2\n",
        "\n",
        "👉 Methods\n",
        "\n",
        "• add() is a method that returns the sum of num1 and num2.\n",
        "\n",
        "• subtract() is a method that returns the subtraction of num1 from num2.\n",
        "\n",
        "• multiply() is a method that returns the product of num1 and num2.\n",
        "\n",
        "• divide() is a method that returns the division of num2 by num1.\n",
        "\n",
        "Input - Pass numbers (integers or floats) in the initializer.\n",
        "\n",
        "Output - addition, subtraction, division, and multiplication\n",
        "\n",
        "Sample input\n",
        "\n",
        "obj = Calculator(10, 94)\n",
        "\n",
        "obj.add()\n",
        "\n",
        "obj.subtract()\n",
        "\n",
        "obj.multiply()\n",
        "\n",
        "obj.divide()\n",
        "\n",
        "Sample output\n",
        "\n",
        "104\n",
        "\n",
        "84\n",
        "\n",
        "940\n",
        "\n",
        "9.4\n",
        "\n",
        "Coding exercise\n",
        "\n",
        "class Calculator:\n",
        "\n",
        "    def __init__(self):\n",
        "        pass\n",
        "    def add(self):\n",
        "        pass\n",
        "    def subtract(self):\n",
        "        pass\n",
        "    def multiply(self):\n",
        "        pass\n",
        "    def divide(self):\n",
        "        pass"
      ],
      "metadata": {
        "id": "gzya9LA1xcJ0"
      }
    },
    {
      "cell_type": "code",
      "source": [
        "class Calculator:\n",
        "\n",
        "  def __init__(self,num1,num2):\n",
        "    self.num1=num1\n",
        "    self.num2=num2\n",
        "  def add(self):\n",
        "      return self.num2+self.num1\n",
        "  def subtract(self):\n",
        "      return self.num2-self.num1\n",
        "\n",
        "  def multiply(self):\n",
        "      return self.num2*self.num1\n",
        "  def divide(self):\n",
        "      return self.num2/self.num1\n",
        "userin_1=int(input())\n",
        "userin_2=int(input())\n",
        "obj1=Calculator(userin_1,userin_2)\n",
        "\n",
        "print(f'Addition is {obj1.add()}')\n",
        "print(f'Substraction is {obj1.subtract()}')\n",
        "print(f'multiplication is {obj1.multiply()}')\n",
        "print(f'division is {obj1.divide()}')"
      ],
      "metadata": {
        "colab": {
          "base_uri": "https://localhost:8080/"
        },
        "id": "4mYLp-iGxeBW",
        "outputId": "3ff885bd-c504-448b-b8c3-32d4a122343d"
      },
      "execution_count": 2,
      "outputs": [
        {
          "output_type": "stream",
          "name": "stdout",
          "text": [
            "10\n",
            "94\n",
            "Addition is 104\n",
            "Substraction is 84\n",
            "multiplication is 940\n",
            "division is 9.4\n"
          ]
        }
      ]
    },
    {
      "cell_type": "code",
      "source": [],
      "metadata": {
        "id": "WVN3GhKV2AaO"
      },
      "execution_count": 2,
      "outputs": []
    },
    {
      "cell_type": "markdown",
      "source": [
        "## **Challenge 3: Implement the Complete Student Class**\n",
        "🔴In this challenge, you will implement a student class\n",
        "\n",
        "### **Problem statement**\n",
        "\n",
        "Implement the complete Student class by completing the tasks below\n",
        "\n",
        "Task\n",
        "\n",
        "👉 Implement the following properties as private:\n",
        "\n",
        "• name\n",
        "\n",
        "• rollNumber\n",
        "\n",
        "👉 Include the following methods to get and set the private properties above:\n",
        "\n",
        "• getName()\n",
        "\n",
        "• setName()\n",
        "\n",
        "• getRollNumber()\n",
        "\n",
        "• setRollNumber()\n",
        "\n",
        "👉 Implement this class according to the rules of encapsulation.\n",
        "\n",
        "Input - Checking all the properties and methods\n",
        "\n",
        "Output - Expecting perfectly defined fields and getter/setters\n",
        "\n",
        "Note: Do not use initializers to initialize the properties. Use the set methods to do so.\n",
        "\n",
        "If the setter is not defined properly, the corresponding getter will also generate an error even if the getter is defined properly.\n",
        "\n",
        "Coding exercise\n",
        "\n",
        "class Student:\n",
        "\n",
        "    def setName(self):\n",
        "        pass\n",
        "    def getName(self):\n",
        "        pass\n",
        "    def setRollNumber(self):\n",
        "        pass\n",
        "    def getRollNumber(self):\n",
        "        pass"
      ],
      "metadata": {
        "id": "U2YG1FNw1_Kg"
      }
    },
    {
      "cell_type": "code",
      "source": [
        "\n",
        "class Student:\n",
        "\n",
        "  def __init__(self,name=None,rollNumber=None):\n",
        "    self._name=name\n",
        "    self._rollNumber=rollNumber\n",
        "\n",
        "  def getName(self):\n",
        "    return self._name\n",
        "\n",
        "  def setName(self,x):\n",
        "    self._name=x\n",
        "\n",
        "  def getRollNumber(self):\n",
        "    return self._rollNumber\n",
        "\n",
        "  def setRollNumber(self,y):\n",
        "    self._rollNumber=y\n",
        "\n",
        "Name_student=input('Enter the Name of the student: ')\n",
        "Age_student=int(input('Enter the the age of the student: '))\n",
        "\n",
        "student_details=Student()\n",
        "student_details.setName(Name_student)\n",
        "student_details.setRollNumber(Age_student)\n",
        "print(f'Name of the student: {student_details.getName()}\\nAge of the student : {student_details.getRollNumber()}')"
      ],
      "metadata": {
        "id": "b_nHzgn61-67",
        "colab": {
          "base_uri": "https://localhost:8080/"
        },
        "outputId": "d5095fb7-83af-4d0b-9834-90254f917391"
      },
      "execution_count": 3,
      "outputs": [
        {
          "output_type": "stream",
          "name": "stdout",
          "text": [
            "Enter the Name of the student: Parushuram\n",
            "Enter the the age of the student: 25\n",
            "Name of the student: Parushuram\n",
            "Age of the student : 25\n"
          ]
        }
      ]
    },
    {
      "cell_type": "code",
      "source": [],
      "metadata": {
        "id": "yiLmpSrFFeC0"
      },
      "execution_count": 3,
      "outputs": []
    },
    {
      "cell_type": "markdown",
      "source": [
        "Challenge 4: Implement a Banking Account\n",
        "\n",
        "🔴 In this challenge, you will implement a banking account using the concepts of inheritance.\n",
        "\n",
        "Problem statement\n",
        "\n",
        "Implement the basic structure of a parent class, Account, and a child class, SavingsAccount.\n",
        "\n",
        "Task 1\n",
        "\n",
        "👉 Implement properties as instance variables, and set them to None or 0.\n",
        "\n",
        "Account has the following properties:\n",
        "\n",
        "    • title\n",
        "    • Balance\n",
        "SavingsAccount has the following properties:\n",
        "\n",
        "    • interestRate\n",
        "Task 2\n",
        "\n",
        "Create an initializer for Account class. The order of parameters should be the following, where Ashish is the title, and 5000 is the account balance:\n",
        "\n",
        "Account(\"Ashish\", 5000)\n",
        "\n",
        "Task 3\n",
        "\n",
        "Implement properties as instance variables, and set them to None or 0.\n",
        "\n",
        "Create an initializer for the SavingsAccount class using the initializer of the Account class in the order below:\n",
        "\n",
        "Account(\"Ashish\", 5000, 5)\n",
        "\n",
        "Here, Ashish is the title and 5000 is the balance and 5 is the interestRate.\n",
        "\n",
        "image1\n",
        "\n",
        "\n",
        "Coding exercise\n",
        "\n",
        "class Account:\n",
        "\n",
        "    def __init__(self):\n",
        "        # write your code here\n",
        "        pass\n",
        "\n",
        "class SavingsAccount():\n",
        "\n",
        "    def __init__(self):\n",
        "        # write your code here\n",
        "        Pass"
      ],
      "metadata": {
        "id": "EyW2d5XAFfTM"
      }
    },
    {
      "cell_type": "code",
      "source": [
        "class Account:\n",
        "  \n",
        "  def __init__(self,title=None,Balance=0):\n",
        "    self.title=title\n",
        "    self.Balance=Balance\n",
        "  def display(self):\n",
        "    return f'customer name is {self.title}'\n",
        "  def getbalance(self):\n",
        "    return self.Balance\n",
        "\n",
        "class SavingsAccount(Account):\n",
        "\n",
        "  def __init__(self,title=None,Balance=0,interestRate=0):\n",
        "    super().__init__(title,Balance)\n",
        "    self.interestRate=interestRate\n",
        "  def interest_amount(self):\n",
        "    return ((self.Balance*self.interestRate)/100)\n",
        "\n",
        "r=SavingsAccount('Avish',5000,5)\n",
        "print(r.display())\n",
        "print(f'account balance is {r.getbalance()}')\n",
        "print(f'interest amount is {r.interest_amount()}')"
      ],
      "metadata": {
        "id": "tbA8Mkf7Fd7u",
        "colab": {
          "base_uri": "https://localhost:8080/"
        },
        "outputId": "b2f25633-43d2-4ea0-c0d9-a31b1dd7b673"
      },
      "execution_count": 4,
      "outputs": [
        {
          "output_type": "stream",
          "name": "stdout",
          "text": [
            "customer name is Avish\n",
            "account balance is 5000\n",
            "interest amount is 250.0\n"
          ]
        }
      ]
    },
    {
      "cell_type": "code",
      "source": [],
      "metadata": {
        "id": "YUdvTrqkqx19"
      },
      "execution_count": null,
      "outputs": []
    },
    {
      "cell_type": "code",
      "source": [],
      "metadata": {
        "id": "btvNArqhqxvX"
      },
      "execution_count": null,
      "outputs": []
    },
    {
      "cell_type": "markdown",
      "source": [
        "## **Challenge 5: Handling a Bank Account**\n",
        "\n",
        "🔴 In this challenge, you will define methods for handling a bank account using concepts of inheritance.\n",
        "\n",
        "Problem statement\n",
        "\n",
        "In this challenge, we will be extending the previous challenge and implementing methods in the parent class and its corresponding child class.\n",
        "\n",
        "The initializers for both classes have been defined for you.\n",
        "\n",
        "Task 1\n",
        "\n",
        "In the Account class, implement the getBalance() method that returns balance.\n",
        "\n",
        "Task 2\n",
        "\n",
        "In the Account class, implement the deposit(amount) method that adds amount to the balance.\n",
        "\n",
        "\n",
        "It does not return anything.\n",
        "\n",
        "Sample input\n",
        "\n",
        "balance = 2000\n",
        "\n",
        "deposit(500)\n",
        "\n",
        "getbalance()\n",
        "\n",
        "Sample output\n",
        "\n",
        "2500\n",
        "\n",
        "Task 3\n",
        "\n",
        "In the Account class, implement the withdrawal(amount) method that subtracts the amount from the balance.\n",
        "\n",
        "It does not return anything.\n",
        "\n",
        "Sample input\n",
        "\n",
        "balance = 2000\n",
        "\n",
        "withdrawal(500)\n",
        "\n",
        "getbalance()\n",
        "\n",
        "Sample output\n",
        "\n",
        "\n",
        "1500\n",
        "\n",
        "Task 4\n",
        "\n",
        "In the SavingsAccount class, implement an interestAmount() method that returns the interest amount of the current balance.\n",
        "\n",
        "Below is the formula for calculating the interest amount:\n",
        "\n",
        "image1\n",
        "\n",
        "Sample input\n",
        "\n",
        "balance = 2000\n",
        "\n",
        "interestRate = 5\n",
        "\n",
        "interestAmount()\n",
        "\n",
        "Sample output\n",
        "\n",
        "100\n",
        "\n",
        "The following figure shows what the result should logically look like:\n",
        "\n",
        "image1\n",
        "\n",
        "Coding exercise\n",
        "\n",
        "Note: A new SavingsClass object is initialized at the end of the code and test results will be based on it.\n",
        "\n",
        "class Account:\n",
        "\n",
        "    def __init__(self, title=None, balance=0):\n",
        "        self.title = title\n",
        "        self.balance = balance\n",
        "    \n",
        "    def withdrawal(self, amount):\n",
        "        # write code here\n",
        "        pass\n",
        "\n",
        "    def deposit(self, amount):\n",
        "        # write code here\n",
        "        pass\n",
        "    def getBalance(self):\n",
        "        # write code here\n",
        "        pass\n",
        "\n",
        "class SavingsAccount(Account):\n",
        "\n",
        "    def __init__(self, title=None, balance=0, interestRate=0):\n",
        "            super().__init__(title, balance)\n",
        "            self.interestRate = interestRate\n",
        "    \n",
        "    def interestAmount(self):\n",
        "        # write code here\n",
        "        pass\n",
        "        \n",
        "\n",
        "#code to test - do not edit this\n",
        "\n",
        "\n",
        "demo1 = SavingsAccount(\"Ashish\", 2000, 5)   # initializing a SavingsAccount object"
      ],
      "metadata": {
        "id": "jeMmuZdvj7-R"
      }
    },
    {
      "cell_type": "code",
      "source": [
        "\n",
        "class Account1:\n",
        "\n",
        "    def __init__(self, title=None, balance=0,amount=0):\n",
        "        self.balance = balance\n",
        "        self.title=title\n",
        "    def display(self):\n",
        "      print('WELCOME TO HDFC BANK')\n",
        "      return f'customer name is {self.title}'\n",
        "\n",
        "    def withdrawal(self,amount):\n",
        "      if self.balance>amount:\n",
        "        if amount%100==0:\n",
        "           self.balance-=amount\n",
        "        else:\n",
        "          return 'Please Enter amount in demotion of 100'\n",
        "      else:\n",
        "        return 'insfficient balance'\n",
        "\n",
        "    def deposit(self, amount):\n",
        "        self.balance=self.balance+amount\n",
        "\n",
        "    def getBalance(self):\n",
        "        return self.balance\n",
        "\n",
        "class SavingsAccount1(Account1):\n",
        "\n",
        "    def __init__(self, title=None, balance=0, interestRate=0):\n",
        "            super().__init__(title, balance)\n",
        "            self.interestRate = interestRate\n",
        "    \n",
        "    def interestAmount(self):\n",
        "        return ((self.balance*self.interestRate)/100)\n",
        "        \n",
        "\n",
        "\n",
        "demo = SavingsAccount1(\"Ashish\", 2000, 5) \n"
      ],
      "metadata": {
        "id": "yuwherFoj7sR"
      },
      "execution_count": 1,
      "outputs": []
    },
    {
      "cell_type": "code",
      "source": [
        "demo.deposit(10000)\n",
        "print('account balnce is:' ,demo.getBalance())"
      ],
      "metadata": {
        "colab": {
          "base_uri": "https://localhost:8080/"
        },
        "id": "kf7jE98RKnw_",
        "outputId": "da2fdb64-fc78-4e39-aef3-9d9df1420f5c"
      },
      "execution_count": 2,
      "outputs": [
        {
          "output_type": "stream",
          "name": "stdout",
          "text": [
            "account balnce is: 12000\n"
          ]
        }
      ]
    },
    {
      "cell_type": "code",
      "source": [
        "demo.withdrawal(5000)\n",
        "print('account balnce is:' ,demo.getBalance())"
      ],
      "metadata": {
        "colab": {
          "base_uri": "https://localhost:8080/"
        },
        "id": "FHtbyuB5rU2P",
        "outputId": "5e004d26-aebe-477c-a4b7-ca39ec95b4e7"
      },
      "execution_count": 3,
      "outputs": [
        {
          "output_type": "stream",
          "name": "stdout",
          "text": [
            "account balnce is: 7000\n"
          ]
        }
      ]
    },
    {
      "cell_type": "code",
      "source": [
        "demo.withdrawal(1016)\n"
      ],
      "metadata": {
        "colab": {
          "base_uri": "https://localhost:8080/",
          "height": 36
        },
        "id": "TF3o0zOfr5Fv",
        "outputId": "f12a3057-ae1c-462e-f86b-b87bbfd7185a"
      },
      "execution_count": 4,
      "outputs": [
        {
          "output_type": "execute_result",
          "data": {
            "text/plain": [
              "'Please Enter amount in demotion of 100'"
            ],
            "application/vnd.google.colaboratory.intrinsic+json": {
              "type": "string"
            }
          },
          "metadata": {},
          "execution_count": 4
        }
      ]
    },
    {
      "cell_type": "code",
      "source": [
        "demo.withdrawal(10000)"
      ],
      "metadata": {
        "colab": {
          "base_uri": "https://localhost:8080/",
          "height": 36
        },
        "id": "NXlRTFGYsNYh",
        "outputId": "a95f7e51-41ce-4253-9fa1-232fac6b5d5e"
      },
      "execution_count": 5,
      "outputs": [
        {
          "output_type": "execute_result",
          "data": {
            "text/plain": [
              "'insfficient balance'"
            ],
            "application/vnd.google.colaboratory.intrinsic+json": {
              "type": "string"
            }
          },
          "metadata": {},
          "execution_count": 5
        }
      ]
    },
    {
      "cell_type": "code",
      "source": [
        "demo.getBalance()"
      ],
      "metadata": {
        "colab": {
          "base_uri": "https://localhost:8080/"
        },
        "id": "gevm4nkhsRq0",
        "outputId": "d41e2e3c-a219-4fb3-b1a9-e863fcd9166a"
      },
      "execution_count": 6,
      "outputs": [
        {
          "output_type": "execute_result",
          "data": {
            "text/plain": [
              "7000"
            ]
          },
          "metadata": {},
          "execution_count": 6
        }
      ]
    },
    {
      "cell_type": "code",
      "source": [
        "demo.interestAmount()"
      ],
      "metadata": {
        "colab": {
          "base_uri": "https://localhost:8080/"
        },
        "id": "7qxRz_pssZ7q",
        "outputId": "63565e7c-bfbb-4049-a32b-d7c66eb1459b"
      },
      "execution_count": 7,
      "outputs": [
        {
          "output_type": "execute_result",
          "data": {
            "text/plain": [
              "350.0"
            ]
          },
          "metadata": {},
          "execution_count": 7
        }
      ]
    }
  ]
}