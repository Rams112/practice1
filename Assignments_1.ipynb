{
  "nbformat": 4,
  "nbformat_minor": 0,
  "metadata": {
    "colab": {
      "provenance": [],
      "include_colab_link": true
    },
    "kernelspec": {
      "name": "python3",
      "display_name": "Python 3"
    },
    "language_info": {
      "name": "python"
    }
  },
  "cells": [
    {
      "cell_type": "markdown",
      "metadata": {
        "id": "view-in-github",
        "colab_type": "text"
      },
      "source": [
        "<a href=\"https://colab.research.google.com/github/Rams112/practice1/blob/main/Assignments_1.ipynb\" target=\"_parent\"><img src=\"https://colab.research.google.com/assets/colab-badge.svg\" alt=\"Open In Colab\"/></a>"
      ]
    },
    {
      "cell_type": "markdown",
      "source": [
        "## ***Operators | Loops***\n",
        "\n",
        "\n",
        "Write a Python program to get the Fibonacci series between 0 to 50\n",
        "\n",
        "\n",
        "\n",
        "Note : The Fibonacci Sequence is the series of numbers :\n",
        "\n",
        "0, 1, 1, 2, 3, 5, 8, 13, 21, ....\n",
        "\n",
        "Every next number is found by adding up the two numbers before it.\n",
        "\n",
        "Expected Output : 1 1 2 3 5 8 13 21 34"
      ],
      "metadata": {
        "id": "VXu4IWgEU-3b"
      }
    },
    {
      "cell_type": "code",
      "source": [
        "num=int(input(\"enter the number for Fibonacci Sequence: \"))\n",
        "r=0\n",
        "j=1\n",
        "if num==1:\n",
        "  print(r)\n",
        "elif num<=0:\n",
        "  print('not valid number')\n",
        "else:\n",
        "  print(r,end=' ')\n",
        "  print(j,end=' ')\n",
        "  for i in range(2,num):\n",
        "    result=r+j\n",
        "    r=j\n",
        "    j=result\n",
        "    print(result,end=' ')\n"
      ],
      "metadata": {
        "colab": {
          "base_uri": "https://localhost:8080/"
        },
        "id": "ayA3xsxTVQcC",
        "outputId": "b46ee4a2-3185-42e1-e12c-02ae113b17e7"
      },
      "execution_count": 1,
      "outputs": [
        {
          "output_type": "stream",
          "name": "stdout",
          "text": [
            "enter the number for Fibonacci Sequence: 5\n",
            "0 1 1 2 3 "
          ]
        }
      ]
    },
    {
      "cell_type": "markdown",
      "source": [
        "Write a Python program that accepts a word from the user and reverse it.\n",
        "\n",
        "\n",
        "\n",
        "Sample Test Case\n",
        "\n",
        "\n",
        "\n",
        "Input : Edyoda\n",
        "\n",
        "output: adoydE"
      ],
      "metadata": {
        "id": "JOGHm8yCcW3s"
      }
    },
    {
      "cell_type": "code",
      "source": [
        "str1=input('enter the word: ')\n",
        "print(\"reverse string is: \",str1[::-1])\n"
      ],
      "metadata": {
        "colab": {
          "base_uri": "https://localhost:8080/"
        },
        "id": "_q4tv2y3cZ96",
        "outputId": "50ebfb9d-faef-43e6-950a-71160030d85d"
      },
      "execution_count": 2,
      "outputs": [
        {
          "output_type": "stream",
          "name": "stdout",
          "text": [
            "enter the word: Edyoda\n",
            "reverse string is:  adoydE\n"
          ]
        }
      ]
    },
    {
      "cell_type": "markdown",
      "source": [
        "Write a Python program to count the number of even and odd numbers from a series of numbers.\n",
        "\n",
        "\n",
        "\n",
        "Sample numbers : numbers = (1, 2, 3, 4, 5, 6, 7, 8, 9) \n",
        "\n",
        "Expected Output :\n",
        "\n",
        "Number of even numbers : 4\n",
        "\n",
        "Number of odd numbers : 5"
      ],
      "metadata": {
        "id": "GBIWMvbweXY8"
      }
    },
    {
      "cell_type": "code",
      "source": [
        "\n",
        "num=int(input('Number of elements in the series: '))\n",
        "number_series=[]\n",
        "count_e=0\n",
        "count_o=0\n",
        "for i in range(num):\n",
        "  j=int(input(\"Enter the numbers:\"))\n",
        "  number_series.append(j)\n",
        "for k in (number_series):\n",
        "  if k%2==0:\n",
        "    count_e+=1\n",
        "  elif k%2==1:\n",
        "    count_o+=1\n",
        "print(f'Given number series is: {number_series}\\nNumber of even numbers:  {count_e}\\nNumber of odd numbers is: {count_o}')"
      ],
      "metadata": {
        "colab": {
          "base_uri": "https://localhost:8080/"
        },
        "id": "zSp7jcogebvC",
        "outputId": "da385f3b-decd-4108-dd4f-b030204612af"
      },
      "execution_count": null,
      "outputs": [
        {
          "output_type": "stream",
          "name": "stdout",
          "text": [
            "Number of elements in the series: 5\n",
            "Enter the numbers:3\n",
            "Enter the numbers:5\n",
            "Enter the numbers:4\n",
            "Enter the numbers:7\n",
            "Enter the numbers:8\n",
            "Given number series is: [3, 5, 4, 7, 8]\n",
            "Number of even numbers:  2\n",
            "Number of odd numbers is: 3\n"
          ]
        }
      ]
    },
    {
      "cell_type": "code",
      "source": [],
      "metadata": {
        "id": "xEU1CMVZimQ0"
      },
      "execution_count": null,
      "outputs": []
    }
  ]
}