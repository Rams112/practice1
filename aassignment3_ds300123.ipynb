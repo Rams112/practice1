{
  "nbformat": 4,
  "nbformat_minor": 0,
  "metadata": {
    "colab": {
      "provenance": [],
      "authorship_tag": "ABX9TyN5R44IljOqi+OIP2rFOc9b",
      "include_colab_link": true
    },
    "kernelspec": {
      "name": "python3",
      "display_name": "Python 3"
    },
    "language_info": {
      "name": "python"
    }
  },
  "cells": [
    {
      "cell_type": "markdown",
      "metadata": {
        "id": "view-in-github",
        "colab_type": "text"
      },
      "source": [
        "<a href=\"https://colab.research.google.com/github/Rams112/practice1/blob/main/aassignment3_ds300123.ipynb\" target=\"_parent\"><img src=\"https://colab.research.google.com/assets/colab-badge.svg\" alt=\"Open In Colab\"/></a>"
      ]
    },
    {
      "cell_type": "markdown",
      "source": [
        "# **k parusharamudu** DS300123"
      ],
      "metadata": {
        "id": "s67xHUaKpjv0"
      }
    },
    {
      "cell_type": "markdown",
      "source": [
        "Game of \"Functions\"\n",
        "\n",
        "\n",
        " Write a Python function to sum all the numbers in a list.\n",
        "\n",
        "\n",
        "\n",
        "Sample List : (8, 2, 3, 0, 7)\n",
        "\n",
        "Expected Output : 20\n",
        "\n",
        "\n",
        "\n",
        "Explanation:\n",
        "\n",
        "\n",
        "\n",
        "Summation should like 8+2+3+0+7 = 20\n",
        "\n"
      ],
      "metadata": {
        "id": "NRTut4vcpiQu"
      }
    },
    {
      "cell_type": "code",
      "execution_count": 1,
      "metadata": {
        "id": "9P9hCuHKpgKq"
      },
      "outputs": [],
      "source": [
        "def sum_list(user_list):\n",
        "  sum=0\n",
        "  for i in user_list:\n",
        "    sum=sum+i\n",
        "  return f'Sum of all the numbers in list : {sum}'\n"
      ]
    },
    {
      "cell_type": "code",
      "source": [
        "user_list = []\n",
        "n = int(input(\"Enter the list size _ of the list: \"))\n",
        "for j in range(0, n):\n",
        "    item = int(input(f'enter the index {j} : '))\n",
        "    user_list.append(item)\n",
        "print(\"User list is \", user_list)\n",
        "\n",
        "sum_list(user_list)"
      ],
      "metadata": {
        "colab": {
          "base_uri": "https://localhost:8080/",
          "height": 157
        },
        "id": "QeYjqU4M2DFg",
        "outputId": "f478d12f-ce4e-47b7-8c98-dff44cb4aeb2"
      },
      "execution_count": 2,
      "outputs": [
        {
          "output_type": "stream",
          "name": "stdout",
          "text": [
            "Enter the list size _ of the list: 5\n",
            "enter the index 0 : 8\n",
            "enter the index 1 : 2\n",
            "enter the index 2 : 3\n",
            "enter the index 3 : 0\n",
            "enter the index 4 : 7\n",
            "User list is  [8, 2, 3, 0, 7]\n"
          ]
        },
        {
          "output_type": "execute_result",
          "data": {
            "text/plain": [
              "'Sum of all the numbers in list : 20'"
            ],
            "application/vnd.google.colaboratory.intrinsic+json": {
              "type": "string"
            }
          },
          "metadata": {},
          "execution_count": 2
        }
      ]
    },
    {
      "cell_type": "markdown",
      "source": [
        "2.\n",
        "String inside the function\n",
        "\n",
        "Write a Python program to reverse a string.\n",
        "\n",
        "\n",
        "\n",
        "﻿Sample String : \"1234abcd\"\n",
        "\n",
        "Expected Output : \"dcba4321\""
      ],
      "metadata": {
        "id": "USsijLt81juQ"
      }
    },
    {
      "cell_type": "code",
      "source": [
        "def reverse_string(user_string):\n",
        "  rev_str=''\n",
        "  rev_str=user_string[::-1]\n",
        "  return rev_str\n",
        "user_string=input('enter the string : ')\n",
        "print(f'after reversing list: {reverse_string(user_string)}')\n"
      ],
      "metadata": {
        "colab": {
          "base_uri": "https://localhost:8080/"
        },
        "id": "MtjAYFKO1jNq",
        "outputId": "aaa25ced-9f84-47ce-f695-ac42890be87a"
      },
      "execution_count": 3,
      "outputs": [
        {
          "output_type": "stream",
          "name": "stdout",
          "text": [
            "enter the string : 1234abcd\n",
            "after reversing list: dcba4321\n"
          ]
        }
      ]
    },
    {
      "cell_type": "markdown",
      "source": [
        "Calculate the Upper and The lower Case\n",
        "\n",
        "Write a Python function that accepts a string and calculate the number of upper case letters and lower case letters.\n",
        "\n",
        "\n",
        "\n",
        "﻿Sample String : 'The quick Brow Fox'\n",
        "\n",
        "Expected Output :\n",
        "\n",
        "No. of Upper case characters : 3\n",
        "\n",
        "No. of Lower case Characters : 12"
      ],
      "metadata": {
        "id": "vkdNZUQJ4Rfa"
      }
    },
    {
      "cell_type": "code",
      "source": [
        "def upper_lower(user_str2):\n",
        "  count_upper=0\n",
        "  count_lower=0\n",
        "  for k in user_str2:\n",
        "    if k.isupper():\n",
        "      count_upper=count_upper+1\n",
        "    elif k.islower():\n",
        "      count_lower=count_lower+1\n",
        "  return f'NO. of Upper case characters : {count_upper} \\nNO. of lower case characters : {count_lower}'\n",
        "user_str2=input('enter the your string for counting upper and lower case latters count: ')\n",
        "print(upper_lower(user_str2))"
      ],
      "metadata": {
        "colab": {
          "base_uri": "https://localhost:8080/"
        },
        "id": "g3F0U0_e4SCE",
        "outputId": "59638d57-0b0b-47ee-b0b0-050a503c12ad"
      },
      "execution_count": 4,
      "outputs": [
        {
          "output_type": "stream",
          "name": "stdout",
          "text": [
            "enter the your string for counting upper and lower case latters count: The quick Brow Fox\n",
            "NO. of Upper case characters : 3 \n",
            "NO. of lower case characters : 12\n"
          ]
        }
      ]
    }
  ]
}