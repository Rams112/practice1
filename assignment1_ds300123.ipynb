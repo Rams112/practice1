{
  "nbformat": 4,
  "nbformat_minor": 0,
  "metadata": {
    "colab": {
      "provenance": [],
      "authorship_tag": "ABX9TyPsDEZ7i3eY6Vc/Cnb0kMgY",
      "include_colab_link": true
    },
    "kernelspec": {
      "name": "python3",
      "display_name": "Python 3"
    },
    "language_info": {
      "name": "python"
    }
  },
  "cells": [
    {
      "cell_type": "markdown",
      "metadata": {
        "id": "view-in-github",
        "colab_type": "text"
      },
      "source": [
        "<a href=\"https://colab.research.google.com/github/Rams112/practice1/blob/main/assignment1_ds300123.ipynb\" target=\"_parent\"><img src=\"https://colab.research.google.com/assets/colab-badge.svg\" alt=\"Open In Colab\"/></a>"
      ]
    },
    {
      "cell_type": "markdown",
      "source": [
        "## **K Parusharamudu (DS300123)**"
      ],
      "metadata": {
        "id": "JBEWNIGR2Tp6"
      }
    },
    {
      "cell_type": "markdown",
      "source": [
        "## ***Lets Play With Fibonacci***\n",
        "\n",
        "Write a Python program to get the Fibonacci series between 0 to 50\n",
        "\n",
        "\n",
        "\n",
        "Note : The Fibonacci Sequence is the series of numbers :\n",
        "\n",
        "0, 1, 1, 2, 3, 5, 8, 13, 21, ....\n",
        "\n",
        "Every next number is found by adding up the two numbers before it.\n",
        "\n",
        "Expected Output : 1 1 2 3 5 8 13 21 34"
      ],
      "metadata": {
        "id": "kyozQZGF1sg8"
      }
    },
    {
      "cell_type": "code",
      "source": [
        "#Febonacci series\n",
        "user_input= int(input('Enter the number for series: ')) # this is for fibonacci series upto n th term\n",
        "#first two is num1,num2\n",
        "num1,num2=0,1\n",
        "if user_input<=0: # given number 0 or below\n",
        "  print('PLEASE Enter a positive numbers:')\n",
        "elif user_input==1:\n",
        "  print('fibonacci series is: ',num1,num2)\n",
        "else:\n",
        "  print(num2,end=' ')\n",
        "  for i in range(2,user_input):\n",
        "    result=num1+num2\n",
        "    num1=num2\n",
        "    num2=result\n",
        "    print(result,end=' ')"
      ],
      "metadata": {
        "colab": {
          "base_uri": "https://localhost:8080/"
        },
        "id": "rv8-h4jB1_bD",
        "outputId": "713a38bc-76f2-48ea-cb54-55682d5ddca7"
      },
      "execution_count": 1,
      "outputs": [
        {
          "output_type": "stream",
          "name": "stdout",
          "text": [
            "Enter the number for series: 10\n",
            "1 1 2 3 5 8 13 21 34 "
          ]
        }
      ]
    },
    {
      "cell_type": "markdown",
      "source": [
        "-------------------------------------------------------------------------"
      ],
      "metadata": {
        "id": "W9fGCbmk7mWT"
      }
    },
    {
      "cell_type": "markdown",
      "source": [
        "## ***Send the Words To Mirror Dimension***\n",
        "\n",
        "Write a Python program that accepts a word from the user and reverse it.\n",
        "\n",
        "\n",
        "\n",
        "Sample Test Case\n",
        "\n",
        "\n",
        "\n",
        "Input : Edyoda\n",
        "\n",
        "output: adoydE\n",
        "\n",
        "\n",
        "\n",
        "For loops or while loops must be used\n",
        "\n",
        "Must Take Input from user\n",
        "\n",
        "Must Print the reverse of the word\n",
        "\n"
      ],
      "metadata": {
        "id": "lhCMHmZz7qzS"
      }
    },
    {
      "cell_type": "code",
      "source": [
        "user_input1=input('Enter your word:')\n",
        "reverse_s=''  #empty string for storing reverse string\n",
        "for k in user_input1:\n",
        "  reverse_s=k+reverse_s\n",
        "print('user string: ',user_input1)\n",
        "print('reversed string:',reverse_s)"
      ],
      "metadata": {
        "colab": {
          "base_uri": "https://localhost:8080/"
        },
        "id": "gqyHpCN17l3s",
        "outputId": "8e631d7a-ae9e-4388-9581-3c2ad7dddd8d"
      },
      "execution_count": 2,
      "outputs": [
        {
          "output_type": "stream",
          "name": "stdout",
          "text": [
            "Enter your word:Edyoda\n",
            "user string:  Edyoda\n",
            "reversed string: adoydE\n"
          ]
        }
      ]
    },
    {
      "cell_type": "markdown",
      "source": [
        "--------------------------------------------------------------------------------------------------------"
      ],
      "metadata": {
        "id": "N3yDbekC-SS4"
      }
    },
    {
      "cell_type": "markdown",
      "source": [
        "## ***Don't go Outside in Odd day***\n",
        "\n",
        "Write a Python program to count the number of even and odd numbers from a series of numbers.\n",
        "\n",
        "\n",
        "\n",
        "Sample numbers : numbers = (1, 2, 3, 4, 5, 6, 7, 8, 9) \n",
        "\n",
        "Expected Output :\n",
        "\n",
        "Number of even numbers : 4\n",
        "\n",
        "Number of odd numbers : 5\n",
        "\n"
      ],
      "metadata": {
        "id": "hBqCbWeo-W1K"
      }
    },
    {
      "cell_type": "code",
      "source": [
        "num=int(input('enter the elements in series: '))    # asking to user for how many elements user want to enter in the series\n",
        "num_series=[] \n",
        "count_even=0\n",
        "count_odd=0\n",
        "for j in range(num):\n",
        "  user_input2=int(input('Enter the numbers: '))\n",
        "  num_series.append(user_input2)\n",
        "for k in num_series:\n",
        "  if k%2==0:\n",
        "    count_even+=1\n",
        "  elif k%2==1:\n",
        "    count_odd+=1\n",
        "print(f'Given number series is: {num_series}\\nNumber of even numbers:  {count_even}\\nNumber of odd numbers is: {count_odd}')"
      ],
      "metadata": {
        "colab": {
          "base_uri": "https://localhost:8080/"
        },
        "id": "ZHoi0pa7-hFq",
        "outputId": "5fa7c9b1-ab8d-4c82-87b3-6f1bb177b605"
      },
      "execution_count": 3,
      "outputs": [
        {
          "output_type": "stream",
          "name": "stdout",
          "text": [
            "enter the elements in series: 9\n",
            "Enter the numbers: 1\n",
            "Enter the numbers: 2\n",
            "Enter the numbers: 3\n",
            "Enter the numbers: 4\n",
            "Enter the numbers: 5\n",
            "Enter the numbers: 6\n",
            "Enter the numbers: 7\n",
            "Enter the numbers: 8\n",
            "Enter the numbers: 9\n",
            "Given number series is: [1, 2, 3, 4, 5, 6, 7, 8, 9]\n",
            "Number of even numbers:  4\n",
            "Number of odd numbers is: 5\n"
          ]
        }
      ]
    }
  ]
}