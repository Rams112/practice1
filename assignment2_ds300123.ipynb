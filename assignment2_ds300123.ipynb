{
  "nbformat": 4,
  "nbformat_minor": 0,
  "metadata": {
    "colab": {
      "provenance": [],
      "authorship_tag": "ABX9TyO0x7rniLMEkQgLrLc2mRF7",
      "include_colab_link": true
    },
    "kernelspec": {
      "name": "python3",
      "display_name": "Python 3"
    },
    "language_info": {
      "name": "python"
    }
  },
  "cells": [
    {
      "cell_type": "markdown",
      "metadata": {
        "id": "view-in-github",
        "colab_type": "text"
      },
      "source": [
        "<a href=\"https://colab.research.google.com/github/Rams112/practice1/blob/main/assignment2_ds300123.ipynb\" target=\"_parent\"><img src=\"https://colab.research.google.com/assets/colab-badge.svg\" alt=\"Open In Colab\"/></a>"
      ]
    },
    {
      "cell_type": "markdown",
      "source": [
        "# **K Parusharamudu (DS300123)**\n",
        "\n",
        "\n"
      ],
      "metadata": {
        "id": "1_Xmg5NqkH6w"
      }
    },
    {
      "cell_type": "markdown",
      "source": [
        "___________________________________________________________________________________________"
      ],
      "metadata": {
        "id": "Ys72kEwlkYtF"
      }
    },
    {
      "cell_type": "markdown",
      "source": [
        "## *Fun with Lists and Tuples*\n",
        "\n",
        "Write a Python program to get a list, sorted in increasing order by the last element in each tuple from a given list of non-empty tuples\n",
        "\n",
        "\n",
        "\n",
        "Sample List : [(2, 5), (1, 2), (4, 4), (2, 3), (2, 1)]\n",
        "\n",
        "Expected Result : [(2, 1), (1, 2), (2, 3), (4, 4), (2, 5)]\n",
        "\n"
      ],
      "metadata": {
        "id": "Acc5R81rkb_l"
      }
    },
    {
      "cell_type": "code",
      "execution_count": 1,
      "metadata": {
        "colab": {
          "base_uri": "https://localhost:8080/",
          "height": 226
        },
        "id": "NrpCfpnbj6Pn",
        "outputId": "41443f6a-7f12-42c4-822a-2ef197e263a2"
      },
      "outputs": [
        {
          "name": "stdout",
          "output_type": "stream",
          "text": [
            "elements range: 5\n",
            "enter first element: 2\n",
            "enter second element: 5\n",
            "enter first element: 1\n",
            "enter second element: 2\n",
            "enter first element: 4\n",
            "enter second element: 4\n",
            "enter first element: 2\n",
            "enter second element: 3\n",
            "enter first element: 2\n",
            "enter second element: 1\n"
          ]
        },
        {
          "output_type": "execute_result",
          "data": {
            "text/plain": [
              "'user given list(befor sort):   [(2, 5), (1, 2), (4, 4), (2, 3), (2, 1)]'"
            ],
            "application/vnd.google.colaboratory.intrinsic+json": {
              "type": "string"
            }
          },
          "metadata": {},
          "execution_count": 1
        }
      ],
      "source": [
        "\n",
        "#sorted in increasing order by the last element in each tuple from a given list \n",
        "def last_element(last):\n",
        "     return last[-1]\n",
        "\n",
        "def user_list():\n",
        "    n=int(input('elements range: '))# this is for input range of list for user\n",
        "    l1=[]\n",
        "    l2=[]\n",
        "    for i in range(n):\n",
        "        element1=int(input('enter first element: '))\n",
        "        element2=int(input('enter second element: '))\n",
        "        l1.append(element1)\n",
        "        l2.append(element2) \n",
        "    global l3 \n",
        "    l3= list(zip(l1,l2))\n",
        "    return f\"user given list(befor sort):   {l3}\"\n",
        "\n",
        "user_list()"
      ]
    },
    {
      "cell_type": "code",
      "source": [
        "def after_sort():\n",
        "   l3.sort(key=last_element)# sorted in last element from the given list\n",
        "   return f'sorting the last element of the list : {l3}'\n",
        "after_sort()"
      ],
      "metadata": {
        "colab": {
          "base_uri": "https://localhost:8080/",
          "height": 36
        },
        "id": "GBZtB_iOlgYp",
        "outputId": "942b6e2e-f7cd-491a-a6cd-dca0c46f8284"
      },
      "execution_count": 2,
      "outputs": [
        {
          "output_type": "execute_result",
          "data": {
            "text/plain": [
              "'sorting the last element of the list : [(2, 1), (1, 2), (2, 3), (4, 4), (2, 5)]'"
            ],
            "application/vnd.google.colaboratory.intrinsic+json": {
              "type": "string"
            }
          },
          "metadata": {},
          "execution_count": 2
        }
      ]
    },
    {
      "cell_type": "markdown",
      "source": [
        "_________________________________________________________________________________________________"
      ],
      "metadata": {
        "id": "lkV-htwylntC"
      }
    },
    {
      "cell_type": "markdown",
      "source": [
        "## *Make Your Own mini-Dictionary*\n",
        "\n",
        "Write a Python program to print a dictionary whose keys should be the alphabet from a-z and the value should be corresponding ASCII values\n",
        "\n",
        "\n",
        "\n",
        "Sample Output : {'a': 97, 'b': 98, 'c': 99, 'd': 100, 'e': 101, 'f': 102, 'g': 103, 'h': 104, 'i': 105, 'j': 106, 'k': 107, 'l': 108, 'm': 109, 'n': 110, 'o': 111, 'p': 112, 'q': 113, 'r': 114, 's': 115, 't': 116, 'u': 117, 'v': 118, 'w': 119, 'x': 120, 'y': 121, 'z': 122}\n",
        "\n"
      ],
      "metadata": {
        "id": "DcAuaxVrlqqD"
      }
    },
    {
      "cell_type": "code",
      "source": [
        "print(''' Choose the correct one \n",
        "      1.a-z\n",
        "      2.A-Z\n",
        "        ''')\n",
        "user_in=int(input('Enter the number for ASCII values of a-z(1) or A-Z(2): '))\n",
        "my_dict = {}\n",
        "st_range=0\n",
        "while user_in != 1 and user_in !=2:\n",
        "   user_in=int(input('Enter only (for ASCII values) 1 (for a-z) or 2 (for A-Z): '))\n",
        "   \n",
        "if user_in==1:\n",
        "              st_range=97\n",
        "else :\n",
        "              st_range=65\n",
        "for i in range(st_range, st_range+26):\n",
        "    my_dict[chr(i)] = i\n",
        "((my_dict))\n"
      ],
      "metadata": {
        "colab": {
          "base_uri": "https://localhost:8080/"
        },
        "id": "5rPqTVSUl33d",
        "outputId": "a4dc7c09-804c-4179-ce83-a518eb500479"
      },
      "execution_count": 3,
      "outputs": [
        {
          "name": "stdout",
          "output_type": "stream",
          "text": [
            " Choose the correct one \n",
            "      1.a-z\n",
            "      2.A-Z\n",
            "        \n",
            "Enter the number for ASCII values of a-z(1) or A-Z(2): 1\n"
          ]
        },
        {
          "output_type": "execute_result",
          "data": {
            "text/plain": [
              "{'a': 97,\n",
              " 'b': 98,\n",
              " 'c': 99,\n",
              " 'd': 100,\n",
              " 'e': 101,\n",
              " 'f': 102,\n",
              " 'g': 103,\n",
              " 'h': 104,\n",
              " 'i': 105,\n",
              " 'j': 106,\n",
              " 'k': 107,\n",
              " 'l': 108,\n",
              " 'm': 109,\n",
              " 'n': 110,\n",
              " 'o': 111,\n",
              " 'p': 112,\n",
              " 'q': 113,\n",
              " 'r': 114,\n",
              " 's': 115,\n",
              " 't': 116,\n",
              " 'u': 117,\n",
              " 'v': 118,\n",
              " 'w': 119,\n",
              " 'x': 120,\n",
              " 'y': 121,\n",
              " 'z': 122}"
            ]
          },
          "metadata": {},
          "execution_count": 3
        }
      ]
    }
  ]
}