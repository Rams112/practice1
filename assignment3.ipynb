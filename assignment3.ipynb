{
  "nbformat": 4,
  "nbformat_minor": 0,
  "metadata": {
    "colab": {
      "provenance": [],
      "collapsed_sections": [],
      "authorship_tag": "ABX9TyMiSdaZlXWRSJdfI+SBgxee",
      "include_colab_link": true
    },
    "kernelspec": {
      "name": "python3",
      "display_name": "Python 3"
    },
    "language_info": {
      "name": "python"
    }
  },
  "cells": [
    {
      "cell_type": "markdown",
      "metadata": {
        "id": "view-in-github",
        "colab_type": "text"
      },
      "source": [
        "<a href=\"https://colab.research.google.com/github/Rams112/practice1/blob/main/assignment3.ipynb\" target=\"_parent\"><img src=\"https://colab.research.google.com/assets/colab-badge.svg\" alt=\"Open In Colab\"/></a>"
      ]
    },
    {
      "cell_type": "markdown",
      "source": [
        "ASSIGNMENT_3\n",
        "k parusharamudu"
      ],
      "metadata": {
        "id": "IReL7UFXpaLp"
      }
    },
    {
      "cell_type": "markdown",
      "source": [
        "Write a Python function to sum all the numbers in a list.\n",
        "\n",
        "\n",
        "\n",
        "Sample List : (8, 2, 3, 0, 7)\n",
        "\n",
        "Expected Output : 20\n",
        "\n",
        "\n",
        "\n",
        "Explanation:\n",
        "\n",
        "\n",
        "\n",
        "Summation should like 8+2+3+0+7 = 20\n",
        "\n"
      ],
      "metadata": {
        "id": "qPyL5Km9b0pA"
      }
    },
    {
      "cell_type": "code",
      "source": [],
      "metadata": {
        "id": "w7gXWHZ2kbjA"
      },
      "execution_count": null,
      "outputs": []
    },
    {
      "cell_type": "code",
      "execution_count": 1,
      "metadata": {
        "id": "JpQrKQoLbqO-"
      },
      "outputs": [],
      "source": [
        "def sum_list(user_list):\n",
        "  sum=0\n",
        "  for i in user_list:\n",
        "    sum=sum+i\n",
        "  return f'Sum of all the numbers in list : {sum}'\n",
        "\n"
      ]
    },
    {
      "cell_type": "code",
      "source": [
        "user_list = []\n",
        "n = int(input(\"Enter the list size _ \"))\n",
        "for j in range(0, n):\n",
        "    item = int(input(f'enter the index {j} : '))\n",
        "    user_list.append(item)\n",
        "print(\"User list is \", user_list)\n",
        "\n",
        "sum_list(user_list)"
      ],
      "metadata": {
        "colab": {
          "base_uri": "https://localhost:8080/",
          "height": 157
        },
        "id": "zPnMtRLrb2e1",
        "outputId": "036ae52e-c7de-4d04-86c8-93570b75da7b"
      },
      "execution_count": 2,
      "outputs": [
        {
          "output_type": "stream",
          "name": "stdout",
          "text": [
            "Enter the list size _ 5\n",
            "enter the index 0 : 8\n",
            "enter the index 1 : 3\n",
            "enter the index 2 : 2\n",
            "enter the index 3 : 0\n",
            "enter the index 4 : 7\n",
            "User list is  [8, 3, 2, 0, 7]\n"
          ]
        },
        {
          "output_type": "execute_result",
          "data": {
            "text/plain": [
              "'Sum of all the numbers in list : 20'"
            ],
            "application/vnd.google.colaboratory.intrinsic+json": {
              "type": "string"
            }
          },
          "metadata": {},
          "execution_count": 2
        }
      ]
    },
    {
      "cell_type": "code",
      "source": [],
      "metadata": {
        "id": "SivktUAopIOX"
      },
      "execution_count": 2,
      "outputs": []
    },
    {
      "cell_type": "markdown",
      "source": [
        "Write a Python program to reverse a string.\n",
        "\n",
        "\n",
        "\n",
        "﻿Sample String : \"1234abcd\"\n",
        "\n",
        "Expected Output : \"dcba4321\""
      ],
      "metadata": {
        "id": "UhsS53pFpHaj"
      }
    },
    {
      "cell_type": "code",
      "source": [
        "def reverse_string(user_string):\n",
        "  rev_str=user_string[::-1]\n",
        "  return rev_str\n",
        "user_string=input('enter the string : ')\n",
        "reverse_string(user_string)"
      ],
      "metadata": {
        "colab": {
          "base_uri": "https://localhost:8080/",
          "height": 53
        },
        "id": "bjr1V4bWpGi5",
        "outputId": "d2e2e37d-4c89-47b8-e2e1-ad4b6a89d969"
      },
      "execution_count": 3,
      "outputs": [
        {
          "name": "stdout",
          "output_type": "stream",
          "text": [
            "enter the string : 1234abcd\n"
          ]
        },
        {
          "output_type": "execute_result",
          "data": {
            "text/plain": [
              "'dcba4321'"
            ],
            "application/vnd.google.colaboratory.intrinsic+json": {
              "type": "string"
            }
          },
          "metadata": {},
          "execution_count": 3
        }
      ]
    },
    {
      "cell_type": "code",
      "source": [],
      "metadata": {
        "id": "p_cqO55RqzCg"
      },
      "execution_count": 3,
      "outputs": []
    },
    {
      "cell_type": "markdown",
      "source": [
        "Write a Python function that accepts a string and calculate the number of upper case letters and lower case letters.\n",
        "\n",
        "\n",
        "\n",
        "﻿Sample String : 'The quick Brow Fox'\n",
        "\n",
        "Expected Output :\n",
        "\n",
        "No. of Upper case characters : 3\n",
        "\n",
        "No. of Lower case Characters : 12"
      ],
      "metadata": {
        "id": "HjDy6LFyq1tX"
      }
    },
    {
      "cell_type": "code",
      "source": [
        "def upper_lower(user_str2):\n",
        "  count_upper=0\n",
        "  count_lower=0\n",
        "  for k in user_str2:\n",
        "    if k.isupper():\n",
        "      count_upper=count_upper+1\n",
        "    elif k.islower():\n",
        "      count_lower=count_lower+1\n",
        "  return f'NO. of Upper case characters : {count_upper} \\nNO. of lower case characters : {count_lower}'\n",
        "  return f''\n",
        "user_str2=input('enter the your string for counting upper and lower case latters count: ')\n",
        "print(upper_lower(user_str2))"
      ],
      "metadata": {
        "id": "4kVLFCRSq-MB",
        "colab": {
          "base_uri": "https://localhost:8080/"
        },
        "outputId": "5bff3604-9049-48d6-faab-efb6abbf51ba"
      },
      "execution_count": 4,
      "outputs": [
        {
          "output_type": "stream",
          "name": "stdout",
          "text": [
            "enter the your string for counting upper and lower case latters count: The quick Brow Fox\n",
            "NO. of Upper case characters : 3 \n",
            "NO. of lower case characters : 12\n"
          ]
        }
      ]
    }
  ]
}