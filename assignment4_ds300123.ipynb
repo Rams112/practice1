{
  "nbformat": 4,
  "nbformat_minor": 0,
  "metadata": {
    "colab": {
      "provenance": [],
      "authorship_tag": "ABX9TyPaA6UysBy9SBz69JwAMwHD",
      "include_colab_link": true
    },
    "kernelspec": {
      "name": "python3",
      "display_name": "Python 3"
    },
    "language_info": {
      "name": "python"
    }
  },
  "cells": [
    {
      "cell_type": "markdown",
      "metadata": {
        "id": "view-in-github",
        "colab_type": "text"
      },
      "source": [
        "<a href=\"https://colab.research.google.com/github/Rams112/practice1/blob/main/assignment4_ds300123.ipynb\" target=\"_parent\"><img src=\"https://colab.research.google.com/assets/colab-badge.svg\" alt=\"Open In Colab\"/></a>"
      ]
    },
    {
      "cell_type": "markdown",
      "source": [
        "#**K Parusharamudu** DS300123"
      ],
      "metadata": {
        "id": "krOkk9HknetV"
      }
    },
    {
      "cell_type": "markdown",
      "source": [
        "### **Play with Lambda**\n",
        "\n",
        "Write a Python program to create a lambda function that adds 25 to a given number passed in as an argument.\n",
        "\n",
        "\n",
        "\n",
        "sample input: 10\n",
        "\n",
        "sample output: 35"
      ],
      "metadata": {
        "id": "q9pWFU6poO5U"
      }
    },
    {
      "cell_type": "code",
      "execution_count": 1,
      "metadata": {
        "colab": {
          "base_uri": "https://localhost:8080/"
        },
        "id": "TJpb24Trndrj",
        "outputId": "6c69bb0b-d138-4622-8423-019bf024b69f"
      },
      "outputs": [
        {
          "output_type": "stream",
          "name": "stdout",
          "text": [
            "enter any number of your choice: 10\n",
            "after appling the function: 35\n"
          ]
        }
      ],
      "source": [
        "fun = lambda x:x+25\n",
        "user_in = int(input('enter any number of your choice: '))\n",
        "print(f'after appling the function: {fun(user_in)}')"
      ]
    },
    {
      "cell_type": "markdown",
      "source": [
        "## **Find the way with Maps**\n",
        "\n",
        "Write a Python program to triple all numbers of a given list of integers. Use Python map.\n",
        "\n",
        "\n",
        "\n",
        "sample list: [1, 2, 3, 4, 5, 6, 7]\n",
        "\n",
        "\n",
        "\n",
        "Triple of list numbers:\n",
        "\n",
        "[3, 6, 9, 12, 15, 18, 21]"
      ],
      "metadata": {
        "id": "IVK8fHnHpro1"
      }
    },
    {
      "cell_type": "code",
      "source": [
        "#taking the list of numbers from user \n",
        "def user_list():\n",
        "  user_li=[]\n",
        "  num=int(input('do you want how many numbers in your list: '))  \n",
        "\n",
        "  for i in range(num):\n",
        "    l1=int(input(f'enter your numbers for index {i}: '))\n",
        "    user_li.append(l1)\n",
        "  return user_li\n"
      ],
      "metadata": {
        "id": "HKcZIGp8p7oB"
      },
      "execution_count": 2,
      "outputs": []
    },
    {
      "cell_type": "code",
      "source": [
        "R=user_list()\n",
        "\n",
        "fun1=map(lambda a:a*3,R)\n",
        "print(f'User list is : {R}')\n",
        "print(f\"triple of list numbers: {list(fun1)}\")\n"
      ],
      "metadata": {
        "colab": {
          "base_uri": "https://localhost:8080/"
        },
        "id": "lo-0NGqeveGO",
        "outputId": "3ecafe6d-e8f6-48e4-9dd7-741192aec622"
      },
      "execution_count": 3,
      "outputs": [
        {
          "output_type": "stream",
          "name": "stdout",
          "text": [
            "do you want how many numbers in your list: 7\n",
            "enter your numbers for index 0: 1\n",
            "enter your numbers for index 1: 2\n",
            "enter your numbers for index 2: 3\n",
            "enter your numbers for index 3: 4\n",
            "enter your numbers for index 4: 5\n",
            "enter your numbers for index 5: 6\n",
            "enter your numbers for index 6: 7\n",
            "User list is : [1, 2, 3, 4, 5, 6, 7]\n",
            "triple of list numbers: [3, 6, 9, 12, 15, 18, 21]\n"
          ]
        }
      ]
    },
    {
      "cell_type": "markdown",
      "source": [
        "Find the Squares from the given List\n",
        "\n",
        "Write a Python program to square the elements of a list using map() function.\n",
        "\n",
        "\n",
        "\n",
        "Sample List: [4, 5, 2, 9]\n",
        "\n",
        "Square the elements of the list:\n",
        "\n",
        "[16, 25, 4, 81]"
      ],
      "metadata": {
        "id": "4BtPasw5vMgr"
      }
    },
    {
      "cell_type": "code",
      "source": [
        "R1=user_list()\n",
        "fun2=map(lambda a:a**2,R1)\n",
        "print(f'User list is : {R1}')\n",
        "print(f\"triple of list numbers: {list(fun2)}\")"
      ],
      "metadata": {
        "colab": {
          "base_uri": "https://localhost:8080/"
        },
        "id": "-4KigFtdwNM9",
        "outputId": "e1198d80-9211-4fe9-bfab-066f6c720009"
      },
      "execution_count": 4,
      "outputs": [
        {
          "output_type": "stream",
          "name": "stdout",
          "text": [
            "do you want how many numbers in your list: 4\n",
            "enter your numbers for index 0: 4\n",
            "enter your numbers for index 1: 5\n",
            "enter your numbers for index 2: 2\n",
            "enter your numbers for index 3: 9\n",
            "User list is : [4, 5, 2, 9]\n",
            "triple of list numbers: [16, 25, 4, 81]\n"
          ]
        }
      ]
    }
  ]
}